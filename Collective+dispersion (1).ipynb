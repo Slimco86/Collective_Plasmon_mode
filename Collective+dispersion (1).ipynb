{
 "cells": [
  {
   "cell_type": "code",
   "execution_count": 1,
   "metadata": {
    "collapsed": false
   },
   "outputs": [],
   "source": [
    "import itertools\n",
    "import numpy as np\n",
    "import matplotlib as mpl\n",
    "import math as m\n",
    "import cmath\n",
    "from mpl_toolkits.mplot3d import Axes3D\n",
    "from matplotlib import cm\n",
    "from matplotlib.ticker import LinearLocator, FormatStrFormatter\n",
    "import matplotlib.pyplot as plt\n",
    "import gc\n",
    "import time\n",
    "import plotly.plotly as py\n",
    "import plotly \n",
    "plotly.tools.set_credentials_file(username='Sl1M', api_key='XnjyYLFX6ZvSn3XyVV2x')\n",
    "import plotly.graph_objs as go\n",
    "from plotly.graph_objs import Surface\n",
    "\n"
   ]
  },
  {
   "cell_type": "code",
   "execution_count": 2,
   "metadata": {
    "collapsed": false
   },
   "outputs": [],
   "source": [
    "def CD(AOI,phi,EpsM,omega_p,r,a,Wvl):\n",
    "    \n",
    "    omega_p=omega_p*2*m.pi # Radial Plasma frequency in \n",
    "    omega_0=omega_p/m.sqrt(1+EpsM) # Mie frequency\n",
    "    Omega=omega_0*((r/a)**3)*(1+2*EpsM)/(6*EpsM) # Coupling frequency\n",
    "    omega_u=[]\n",
    "    omega_m=[]\n",
    "    q=[]\n",
    "    C=[(1-3*((m.sin(m.radians(AOI)))**2)*((m.cos(m.radians(phi-(2*m.pi*n/3))))**2)) for n in range(3)]\n",
    "    e=[[a*0,a*-1],[a*m.sqrt(3)/2,a*1/2],[-a*m.sqrt(3)/2,a*1/2]]\n",
    "    e=np.asarray(e)\n",
    "    \n",
    "    kxa=[2*m.pi/wvl*m.sin(m.radians(AOI))*m.cos(m.radians(phi)) for wvl in Wvl]\n",
    "    kya=[2*m.pi/wvl*m.sin(m.radians(AOI))*m.sin(m.radians(phi)) for wvl in Wvl]\n",
    "    \n",
    "    for i in itertools.product(kxa,kya):\n",
    "        q=list(i)\n",
    "        q=np.asarray(q)\n",
    "        \n",
    "        f=[(C[n]*np.exp(1j*np.cross(q,e[n]))) for n in range(3)]\n",
    "        \n",
    "        f=np.sum(f) \n",
    "        \n",
    "        omega_u.append(omega_0+Omega*np.linalg.norm(f))\n",
    "        omega_m.append(omega_0-Omega*np.linalg.norm(f))\n",
    "    return omega_u,omega_m, kxa, kya     \n",
    "        \n",
    "    \n",
    "    "
   ]
  },
  {
   "cell_type": "code",
   "execution_count": 13,
   "metadata": {
    "collapsed": false
   },
   "outputs": [
    {
     "name": "stdout",
     "output_type": "stream",
     "text": [
      "17.027973890304565\n"
     ]
    },
    {
     "data": {
      "text/plain": [
       "5"
      ]
     },
     "execution_count": 13,
     "metadata": {},
     "output_type": "execute_result"
    }
   ],
   "source": [
    "#Matplotlib Graphing option\n",
    "start=time.time()\n",
    "AOI=100\n",
    "phi=45\n",
    "Wvl1=[x for x in range(210,1690,10)]\n",
    "Wvl2=[x for x in range(1690,10000,1000)]\n",
    "Wvl3=[x for x in range(10000,50000,10000)]\n",
    "Wvl=Wvl1+Wvl2+Wvl3+[200000]\n",
    "\n",
    "dis_u,dis_m,kx,ky=CD(AOI,phi,1,600,60,180,Wvl)\n",
    "\n",
    "dis_u=np.reshape(dis_u,[len(kx),len(ky)])\n",
    "dis_m=np.reshape(dis_m,[len(kx),len(ky)])\n",
    "\n",
    "diswvl_u=[3*10**8/x*10**12  for x in dis_u]\n",
    "disfrq_u=[x/(2*m.pi) for x in dis_u]\n",
    "disfrq_m=[x/(2*m.pi) for x in dis_m]\n",
    "\n",
    "diswvl_u=[3*10**8/(x*10**12)*10**9 for x in disfrq_u]\n",
    "diswvl_m=[3*10**8/(x*10**12)*10**9 for x in disfrq_m]\n",
    "\n",
    "\n",
    "kym=[x*(-1) for x in ky]\n",
    "kxm=[x*(-1) for x in kx]\n",
    "\n",
    "fig = plt.figure('Collective plasmonic mode dispersion')\n",
    "ax = fig.gca(projection='3d')\n",
    "\n",
    "# Make momentum space grid.\n",
    "\n",
    "X, Y = np.meshgrid(kx, ky)\n",
    "Xm,Ym = np.meshgrid(kxm,kym)\n",
    "\n",
    "\n",
    "\n",
    "# Plot the surface.\n",
    "surf1 = ax.plot_surface(X, Y, diswvl_u,rstride=1, cstride=1, cmap=cm.Greys,\n",
    "                       linewidth=0, antialiased=False)\n",
    "surf2 = ax.plot_surface(X, Y, diswvl_m,rstride=1, cstride=1, cmap=cm.afmhot,\n",
    "                       linewidth=0, antialiased=False)\n",
    "surf3 = ax.plot_surface(Xm, Ym, diswvl_u,rstride=1, cstride=1, cmap=cm.Greys,\n",
    "                       linewidth=0, antialiased=False)\n",
    "surf4 = ax.plot_surface(Xm, Ym, diswvl_m,rstride=1, cstride=1, cmap=cm.afmhot,\n",
    "                       linewidth=0, antialiased=False)\n",
    "surf5 = ax.plot_surface(X, Ym, diswvl_u,rstride=1, cstride=1, cmap=cm.Greys,\n",
    "                       linewidth=0, antialiased=False)\n",
    "surf6 = ax.plot_surface(Xm, Y, diswvl_u,rstride=1, cstride=1, cmap=cm.Greys,\n",
    "                       linewidth=0, antialiased=False)\n",
    "surf7 = ax.plot_surface(X, Ym, diswvl_m,rstride=1, cstride=1, cmap=cm.afmhot,\n",
    "                       linewidth=0, antialiased=False)\n",
    "surf8 = ax.plot_surface(Xm, Y, diswvl_m,rstride=1, cstride=1, cmap=cm.afmhot,\n",
    "                       linewidth=0, antialiased=False)\n",
    "\n",
    "\n",
    "\n",
    "end=time.time()\n",
    "print(end-start)\n",
    "# Customize the z axis.\n",
    "#ax.set_zlim( min(disfrq_m)-10,max(disfrq_u)+10)\n",
    "#ax.grid(False)\n",
    "\n",
    "ax.w_xaxis.set_pane_color((0.2, 1.0, 1.0, 1.0))\n",
    "ax.w_yaxis.set_pane_color((0.2, 1.0, 1.0, 1.0))\n",
    "ax.w_zaxis.set_pane_color((0.2, 1.0, 1.0, 1.0))\n",
    "\n",
    "ax.zaxis.set_major_locator(LinearLocator(10))\n",
    "ax.zaxis.set_major_formatter(FormatStrFormatter('%.0f'))\n",
    "ax.set_xlabel('Kx',size='large')\n",
    "ax.set_ylabel('Ky',size='large')\n",
    "#ax.set_zlabel('Frequency (THz)'size='large')\n",
    "ax.set_zlabel('Wavelength (nm)',size='large')\n",
    "\n",
    "fig.suptitle(('Collective plasmon mode dispersion. AOI-%s and Azimuthal-%s'%(AOI,phi)), fontsize=24)\n",
    "# Add a color bar which maps values to colors.\n",
    "#fig.colorbar(surf, shrink=0.5, aspect=5)\n",
    "\n",
    "plt.show()\n",
    "del surf1,surf2,surf3,surf4,surf5,surf6,surf7,surf8,X,Y,dis_u,dis_m,kx,ky,Wvl,diswvl_u,disfrq_u,disfrq_m,kxm,kym\n",
    "gc.collect()"
   ]
  },
  {
   "cell_type": "code",
   "execution_count": 10,
   "metadata": {
    "collapsed": false
   },
   "outputs": [
    {
     "name": "stdout",
     "output_type": "stream",
     "text": [
      "The draw time for this plot will be slow for clients without much RAM.\n"
     ]
    },
    {
     "name": "stderr",
     "output_type": "stream",
     "text": [
      "C:\\Users\\pi1\\Downloads\\WinPython-32bit-3.5.1.2\\python-3.5.1\\lib\\site-packages\\plotly\\api\\v1\\clientresp.py:40: UserWarning:\n",
      "\n",
      "Estimated Draw Time Slow\n",
      "\n"
     ]
    },
    {
     "data": {
      "text/html": [
       "<iframe id=\"igraph\" scrolling=\"no\" style=\"border:none;\" seamless=\"seamless\" src=\"https://plot.ly/~Sl1M/3.embed\" height=\"525px\" width=\"100%\"></iframe>"
      ],
      "text/plain": [
       "<plotly.tools.PlotlyDisplay object>"
      ]
     },
     "execution_count": 10,
     "metadata": {},
     "output_type": "execute_result"
    }
   ],
   "source": [
    "#Plotly greaphing option\n",
    "start=time.time()\n",
    "AOI=90\n",
    "phi=45\n",
    "Wvl1=[x for x in range(210,1690,10)]\n",
    "Wvl2=[x for x in range(1690,10000,1000)]\n",
    "Wvl3=[x for x in range(10000,50000,10000)]\n",
    "Wvl=Wvl1+Wvl2+Wvl3+[200000]\n",
    "\n",
    "dis_u,dis_m,kx,ky=CD(AOI,phi,1,600,60,180,Wvl)\n",
    "\n",
    "dis_u=np.reshape(dis_u,[len(kx),len(ky)])\n",
    "dis_m=np.reshape(dis_m,[len(kx),len(ky)])\n",
    "\n",
    "diswvl_u=[3*10**8/x*10**12  for x in dis_u]\n",
    "disfrq_u=[x/(2*m.pi) for x in dis_u]\n",
    "disfrq_m=[x/(2*m.pi) for x in dis_m]\n",
    "\n",
    "diswvl_u=[3*10**8/(x*10**12)*10**9 for x in disfrq_u]\n",
    "diswvl_m=[3*10**8/(x*10**12)*10**9 for x in disfrq_m]\n",
    "\n",
    "\n",
    "kym=[x*(-1) for x in ky]\n",
    "kxm=[x*(-1) for x in kx]\n",
    "\n",
    "Ky=kym+ky\n",
    "Kx=kxm+kx\n",
    "\n",
    "py.iplot([\n",
    "    dict(x=kx,y=ky,z=diswvl_u,showscale=False, type='surface'),\n",
    "    dict(x=kx,y=ky,z=diswvl_m, showscale=False, opacity=1, type='surface'),\n",
    "    dict(x=kxm,y=kym,z=diswvl_u, showscale=False, opacity=1, type='surface'),\n",
    "    dict(x=kxm,y=kym,z=diswvl_m, showscale=False, opacity=1, type='surface'),\n",
    "    dict(x=kx,y=kym,z=diswvl_u, showscale=False, opacity=1, type='surface'),\n",
    "    dict(x=kx,y=kym,z=diswvl_m, showscale=False, opacity=1, type='surface'),\n",
    "    dict(x=kxm,y=ky,z=diswvl_u, showscale=False, opacity=1, type='surface'),\n",
    "    dict(x=kxm,y=ky,z=diswvl_m, showscale=False, opacity=1, type='surface')    \n",
    "   ],\n",
    "    filename='Two Bands')\n"
   ]
  },
  {
   "cell_type": "code",
   "execution_count": null,
   "metadata": {
    "collapsed": true
   },
   "outputs": [],
   "source": []
  }
 ],
 "metadata": {
  "kernelspec": {
   "display_name": "Python 3",
   "language": "python",
   "name": "python3"
  },
  "language_info": {
   "codemirror_mode": {
    "name": "ipython",
    "version": 3
   },
   "file_extension": ".py",
   "mimetype": "text/x-python",
   "name": "python",
   "nbconvert_exporter": "python",
   "pygments_lexer": "ipython3",
   "version": "3.5.1"
  }
 },
 "nbformat": 4,
 "nbformat_minor": 1
}
